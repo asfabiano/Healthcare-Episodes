{
 "cells": [
  {
   "cell_type": "code",
   "execution_count": 9,
   "metadata": {
    "collapsed": true
   },
   "outputs": [],
   "source": [
    "import numpy as np\n",
    "import os\n",
    "import csv\n",
    "import dask.dataframe as dd"
   ]
  },
  {
   "cell_type": "code",
   "execution_count": 10,
   "metadata": {
    "collapsed": true
   },
   "outputs": [],
   "source": [
    "df = dd.read_csv(\"NIS_2012_CoreCSV.csv\", dtype=object)"
   ]
  },
  {
   "cell_type": "code",
   "execution_count": 13,
   "metadata": {
    "collapsed": true
   },
   "outputs": [],
   "source": [
    "prcols = []\n",
    "for i in np.arange(0,15,1):\n",
    "    prcols.append(\"PR{}\".format(i+1))\n",
    "prcols.insert(0, \"KEY_NIS\") # Inserts 'KEY_NIS' as first element\n",
    "# Create dataframe with only 'KEY_NIS' and procedure columns\n",
    "dfpr = df[prcols]"
   ]
  },
  {
   "cell_type": "code",
   "execution_count": 21,
   "metadata": {},
   "outputs": [],
   "source": [
    "dfpr.head();"
   ]
  },
  {
   "cell_type": "code",
   "execution_count": 20,
   "metadata": {
    "scrolled": true
   },
   "outputs": [
    {
     "data": {
      "text/plain": [
       "['ddfpr_rows/00.csv',\n",
       " 'ddfpr_rows/01.csv',\n",
       " 'ddfpr_rows/02.csv',\n",
       " 'ddfpr_rows/03.csv',\n",
       " 'ddfpr_rows/04.csv',\n",
       " 'ddfpr_rows/05.csv',\n",
       " 'ddfpr_rows/06.csv',\n",
       " 'ddfpr_rows/07.csv',\n",
       " 'ddfpr_rows/08.csv',\n",
       " 'ddfpr_rows/09.csv',\n",
       " 'ddfpr_rows/10.csv',\n",
       " 'ddfpr_rows/11.csv',\n",
       " 'ddfpr_rows/12.csv',\n",
       " 'ddfpr_rows/13.csv',\n",
       " 'ddfpr_rows/14.csv',\n",
       " 'ddfpr_rows/15.csv',\n",
       " 'ddfpr_rows/16.csv',\n",
       " 'ddfpr_rows/17.csv',\n",
       " 'ddfpr_rows/18.csv',\n",
       " 'ddfpr_rows/19.csv',\n",
       " 'ddfpr_rows/20.csv',\n",
       " 'ddfpr_rows/21.csv',\n",
       " 'ddfpr_rows/22.csv',\n",
       " 'ddfpr_rows/23.csv',\n",
       " 'ddfpr_rows/24.csv',\n",
       " 'ddfpr_rows/25.csv',\n",
       " 'ddfpr_rows/26.csv',\n",
       " 'ddfpr_rows/27.csv',\n",
       " 'ddfpr_rows/28.csv',\n",
       " 'ddfpr_rows/29.csv',\n",
       " 'ddfpr_rows/30.csv',\n",
       " 'ddfpr_rows/31.csv',\n",
       " 'ddfpr_rows/32.csv',\n",
       " 'ddfpr_rows/33.csv']"
      ]
     },
     "execution_count": 20,
     "metadata": {},
     "output_type": "execute_result"
    }
   ],
   "source": [
    "dfpr.to_csv(\"ddfpr_rows/*.csv\")"
   ]
  },
  {
   "cell_type": "code",
   "execution_count": null,
   "metadata": {
    "collapsed": true
   },
   "outputs": [],
   "source": []
  },
  {
   "cell_type": "code",
   "execution_count": null,
   "metadata": {
    "collapsed": true
   },
   "outputs": [],
   "source": []
  },
  {
   "cell_type": "code",
   "execution_count": null,
   "metadata": {
    "collapsed": true
   },
   "outputs": [],
   "source": []
  },
  {
   "cell_type": "code",
   "execution_count": 2,
   "metadata": {
    "scrolled": true
   },
   "outputs": [
    {
     "name": "stdout",
     "output_type": "stream",
     "text": [
      "HERE:  100000\n",
      "HERE:  200000\n",
      "HERE:  300000\n",
      "HERE:  400000\n",
      "HERE:  500000\n",
      "HERE:  600000\n",
      "HERE:  700000\n",
      "HERE:  800000\n",
      "HERE:  900000\n",
      "HERE:  1000000\n",
      "HERE:  1100000\n",
      "HERE:  1200000\n",
      "HERE:  1300000\n",
      "HERE:  1400000\n",
      "HERE:  1500000\n",
      "HERE:  1600000\n",
      "HERE:  1700000\n",
      "HERE:  1800000\n",
      "HERE:  1900000\n",
      "HERE:  2000000\n",
      "HERE:  2100000\n",
      "HERE:  2200000\n",
      "HERE:  2300000\n",
      "HERE:  2400000\n",
      "HERE:  2500000\n",
      "HERE:  2600000\n",
      "HERE:  2700000\n",
      "HERE:  2800000\n",
      "HERE:  2900000\n",
      "HERE:  3000000\n",
      "HERE:  3100000\n",
      "HERE:  3200000\n",
      "HERE:  3300000\n",
      "HERE:  3400000\n",
      "HERE:  3500000\n",
      "HERE:  3600000\n",
      "HERE:  3700000\n",
      "HERE:  3800000\n",
      "HERE:  3900000\n",
      "HERE:  4000000\n",
      "HERE:  4100000\n",
      "HERE:  4200000\n",
      "HERE:  4300000\n",
      "HERE:  4400000\n",
      "HERE:  4500000\n",
      "HERE:  4600000\n",
      "HERE:  4700000\n",
      "HERE:  4800000\n",
      "HERE:  4900000\n",
      "HERE:  5000000\n",
      "HERE:  5100000\n",
      "HERE:  5200000\n",
      "HERE:  5300000\n",
      "HERE:  5400000\n",
      "HERE:  5500000\n",
      "HERE:  5600000\n",
      "HERE:  5700000\n",
      "HERE:  5800000\n",
      "HERE:  5900000\n",
      "HERE:  6000000\n",
      "HERE:  6100000\n",
      "HERE:  6200000\n",
      "HERE:  6300000\n",
      "HERE:  6400000\n",
      "HERE:  6500000\n",
      "HERE:  6600000\n",
      "HERE:  6700000\n",
      "HERE:  6800000\n",
      "HERE:  6900000\n",
      "HERE:  7000000\n",
      "HERE:  7100000\n",
      "HERE:  7200000\n"
     ]
    }
   ],
   "source": [
    "# testmtx = np.zeros((7296968, 10000), dtype=np.bool)\n",
    "# add all codes in here\n",
    "total_codes = set([]) # len(total_codes)= number columns needed\n",
    "codes_to_index = {} # store code as key, and col_num as value\n",
    "row_num = 0 # find the total amount of rows\n",
    "\n",
    "for f in sorted(os.listdir(\"dfpr_rows\")):\n",
    "    read = csv.reader(open(\"dfpr_rows/{}\".format(f)))\n",
    "    test = 0\n",
    "    for row in read:\n",
    "        if row[0] != '': # if not header row since header rows don't have a first entry (id)\n",
    "#             print(row)\n",
    "#             print(\"ROW NUM\", row_num)\n",
    "            for code in row[1:]: #iterate through each item in the row (excluding fake index)\n",
    "                if code == '': # if we've reached the end of the values, leave the row\n",
    "                    break\n",
    "                else:\n",
    "#                     print(code)\n",
    "                    if code not in codes_to_index:\n",
    "                        codes_to_index[code] = len(total_codes)\n",
    "                        # in 'codes_to_index' dictionary, creates key of 'code' & assigns key value of len(total_codes)\n",
    "                        # to keep track of the cols of the mtx (the ICD9 codes) and their indices\n",
    "                        total_codes.add(code)\n",
    "                        # adds the new code to the 'total_codes' set of unique code values\n",
    "                    try:\n",
    "                        testmtx[row_num, int(code)] = True\n",
    "                    except:\n",
    "                        pass\n",
    "#                     print(\"SUM\", np.sum(testmtx[row_num]))\n",
    "            row_num +=1\n",
    "            if row_num % 100000 == 0:\n",
    "                print(\"HERE: \", row_num)         "
   ]
  },
  {
   "cell_type": "code",
   "execution_count": null,
   "metadata": {
    "collapsed": true
   },
   "outputs": [],
   "source": [
    "for f in sorted(os.listdir(\"dfpr_rows\")):\n",
    "    read = csv.reader(open(\"dfpr_rows/{}\".format(f)))\n",
    "    for row in read:\n",
    "        print(row)\n",
    "        break"
   ]
  },
  {
   "cell_type": "code",
   "execution_count": 3,
   "metadata": {},
   "outputs": [
    {
     "name": "stdout",
     "output_type": "stream",
     "text": [
      "3621\n",
      "7296968\n"
     ]
    }
   ],
   "source": [
    "print(len(total_codes))\n",
    "print(row_num)"
   ]
  },
  {
   "cell_type": "code",
   "execution_count": null,
   "metadata": {
    "collapsed": true
   },
   "outputs": [],
   "source": [
    "total_codes"
   ]
  },
  {
   "cell_type": "code",
   "execution_count": 4,
   "metadata": {
    "scrolled": true
   },
   "outputs": [
    {
     "name": "stdout",
     "output_type": "stream",
     "text": [
      "HERE:  100000\n",
      "HERE:  200000\n",
      "HERE:  300000\n",
      "HERE:  400000\n",
      "HERE:  500000\n",
      "HERE:  600000\n",
      "HERE:  700000\n",
      "HERE:  800000\n",
      "HERE:  900000\n",
      "HERE:  1000000\n",
      "HERE:  1100000\n",
      "HERE:  1200000\n",
      "HERE:  1300000\n",
      "HERE:  1400000\n",
      "HERE:  1500000\n",
      "HERE:  1600000\n",
      "HERE:  1700000\n",
      "HERE:  1800000\n",
      "HERE:  1900000\n",
      "HERE:  2000000\n",
      "HERE:  2100000\n",
      "HERE:  2200000\n",
      "HERE:  2300000\n",
      "HERE:  2400000\n",
      "HERE:  2500000\n",
      "HERE:  2600000\n",
      "HERE:  2700000\n",
      "HERE:  2800000\n",
      "HERE:  2900000\n",
      "HERE:  3000000\n",
      "HERE:  3100000\n",
      "HERE:  3200000\n",
      "HERE:  3300000\n",
      "HERE:  3400000\n",
      "HERE:  3500000\n",
      "HERE:  3600000\n",
      "HERE:  3700000\n",
      "HERE:  3800000\n",
      "HERE:  3900000\n",
      "HERE:  4000000\n",
      "HERE:  4100000\n",
      "HERE:  4200000\n",
      "HERE:  4300000\n",
      "HERE:  4400000\n",
      "HERE:  4500000\n",
      "HERE:  4600000\n",
      "HERE:  4700000\n",
      "HERE:  4800000\n",
      "HERE:  4900000\n",
      "HERE:  5000000\n",
      "HERE:  5100000\n",
      "HERE:  5200000\n",
      "HERE:  5300000\n",
      "HERE:  5400000\n",
      "HERE:  5500000\n",
      "HERE:  5600000\n",
      "HERE:  5700000\n",
      "HERE:  5800000\n",
      "HERE:  5900000\n",
      "HERE:  6000000\n",
      "HERE:  6100000\n",
      "HERE:  6200000\n",
      "HERE:  6300000\n",
      "HERE:  6400000\n",
      "HERE:  6500000\n",
      "HERE:  6600000\n",
      "HERE:  6700000\n",
      "HERE:  6800000\n",
      "HERE:  6900000\n",
      "HERE:  7000000\n",
      "HERE:  7100000\n",
      "HERE:  7200000\n"
     ]
    }
   ],
   "source": [
    "testmtx = np.zeros((row_num, len(total_codes)), dtype=np.bool)\n",
    "# total_codes = set([])\n",
    "row_num = 0\n",
    "# test_codes.add(code)\n",
    "for f in sorted(os.listdir(\"dfpr_rows\")):\n",
    "    read = csv.reader(open(\"dfpr_rows/{}\".format(f)))\n",
    "    test = 0\n",
    "    for row in read:\n",
    "        if row[0] != '': # if not header row\n",
    "#             print(row)\n",
    "#             print(\"ROW NUM\", row_num)\n",
    "            for code in row[1:]: #iterate through each item in the row (excluding fake index)\n",
    "                if code == '': # if we've reached the end of the values, leave the row\n",
    "                    break\n",
    "                else:\n",
    "#                 test_codes.add(code)\n",
    "#                     print(code)\n",
    "                    try:\n",
    "                        testmtx[row_num, int(code)] = True\n",
    "                    except:\n",
    "                        pass\n",
    "#                     print(\"SUM\", np.sum(testmtx[row_num]))\n",
    "            row_num +=1\n",
    "            if row_num % 100000 == 0:\n",
    "                print(\"HERE: \", row_num)\n",
    "            "
   ]
  },
  {
   "cell_type": "code",
   "execution_count": 5,
   "metadata": {},
   "outputs": [
    {
     "data": {
      "text/plain": [
       "(7296968, 3621)"
      ]
     },
     "execution_count": 5,
     "metadata": {},
     "output_type": "execute_result"
    }
   ],
   "source": [
    "testmtx.shape"
   ]
  },
  {
   "cell_type": "code",
   "execution_count": 7,
   "metadata": {},
   "outputs": [
    {
     "data": {
      "text/plain": [
       "['00.csv',\n",
       " '01.csv',\n",
       " '02.csv',\n",
       " '03.csv',\n",
       " '04.csv',\n",
       " '05.csv',\n",
       " '06.csv',\n",
       " '07.csv',\n",
       " '08.csv',\n",
       " '09.csv',\n",
       " '10.csv',\n",
       " '11.csv',\n",
       " '12.csv',\n",
       " '13.csv',\n",
       " '14.csv',\n",
       " '15.csv',\n",
       " '16.csv',\n",
       " '17.csv',\n",
       " '18.csv',\n",
       " '19.csv',\n",
       " '20.csv',\n",
       " '21.csv',\n",
       " '22.csv',\n",
       " '23.csv',\n",
       " '24.csv',\n",
       " '25.csv',\n",
       " '26.csv',\n",
       " '27.csv',\n",
       " '28.csv',\n",
       " '29.csv',\n",
       " '30.csv',\n",
       " '31.csv',\n",
       " '32.csv',\n",
       " '33.csv']"
      ]
     },
     "execution_count": 7,
     "metadata": {},
     "output_type": "execute_result"
    }
   ],
   "source": [
    "sorted(os.listdir(\"dfpr_rows\"))"
   ]
  },
  {
   "cell_type": "code",
   "execution_count": null,
   "metadata": {
    "collapsed": true
   },
   "outputs": [],
   "source": []
  }
 ],
 "metadata": {
  "kernelspec": {
   "display_name": "Python 3",
   "language": "python",
   "name": "python3"
  },
  "language_info": {
   "codemirror_mode": {
    "name": "ipython",
    "version": 3
   },
   "file_extension": ".py",
   "mimetype": "text/x-python",
   "name": "python",
   "nbconvert_exporter": "python",
   "pygments_lexer": "ipython3",
   "version": "3.6.4"
  }
 },
 "nbformat": 4,
 "nbformat_minor": 2
}
